{
  "nbformat": 4,
  "nbformat_minor": 0,
  "metadata": {
    "colab": {
      "provenance": [],
      "authorship_tag": "ABX9TyNFl20/afOyK6g5q01ZvdzR",
      "include_colab_link": true
    },
    "kernelspec": {
      "name": "python3",
      "display_name": "Python 3"
    },
    "language_info": {
      "name": "python"
    }
  },
  "cells": [
    {
      "cell_type": "markdown",
      "metadata": {
        "id": "view-in-github",
        "colab_type": "text"
      },
      "source": [
        "<a href=\"https://colab.research.google.com/github/debaratigh0209/Credit_Card_Approval/blob/main/Untitled48.ipynb\" target=\"_parent\"><img src=\"https://colab.research.google.com/assets/colab-badge.svg\" alt=\"Open In Colab\"/></a>"
      ]
    },
    {
      "cell_type": "code",
      "execution_count": 1,
      "metadata": {
        "id": "rJRMcd_gN3Kx",
        "colab": {
          "base_uri": "https://localhost:8080/"
        },
        "outputId": "549baa2b-f52a-4828-baa1-4a81a4194d25"
      },
      "outputs": [
        {
          "output_type": "stream",
          "name": "stdout",
          "text": [
            "Collecting simpy\n",
            "  Downloading simpy-4.1.1-py3-none-any.whl (27 kB)\n",
            "Installing collected packages: simpy\n",
            "Successfully installed simpy-4.1.1\n"
          ]
        }
      ],
      "source": [
        "pip install simpy"
      ]
    },
    {
      "cell_type": "code",
      "source": [
        "import simpy\n",
        "import random\n",
        "\n",
        "\n",
        "def vessel_arrival(env):\n",
        "    vessel_id = 0  # Unique identifier for each vessel\n",
        "    while True:\n",
        "        # Generate the next arrival time\n",
        "        inter_arrival = random.expovariate(1/5)  # 5 hours mean time\n",
        "        yield env.timeout(inter_arrival)\n",
        "\n",
        "        vessel_id += 1\n",
        "        print(f'Vessel {vessel_id} arrives at {env.now:.2f} hours')\n",
        "        env.process(discharge_vessel(env, vessel_id))\n",
        "\n",
        "def discharge_vessel(env, vessel_id):\n",
        "    num_containers = 150  # Number of containers to discharge\n",
        "    print(f'Vessel {vessel_id} starts discharging at {env.now:.2f} hours')\n",
        "\n",
        "    for _ in range(num_containers):\n",
        "        yield env.timeout(0.1)  # Assuming it takes 0.1 hours to unload one container\n",
        "\n",
        "    print(f'Vessel {vessel_id} finished discharging at {env.now:.2f} hours')\n",
        "\n",
        "# Create the SimPy environment\n",
        "env = simpy.Environment()\n",
        "env.process(vessel_arrival(env))\n",
        "\n",
        "# Run the simulation for a specified amount of time\n",
        "env.run(until=100)  # Run for 100 hours\n",
        "\n",
        "\n"
      ],
      "metadata": {
        "colab": {
          "base_uri": "https://localhost:8080/"
        },
        "id": "Qq-BqCDqV59X",
        "outputId": "6b9bdd66-755b-4f73-ac73-604abcfd591d"
      },
      "execution_count": 3,
      "outputs": [
        {
          "output_type": "stream",
          "name": "stdout",
          "text": [
            "Vessel 1 arrives at 0.35 hours\n",
            "Vessel 1 starts discharging at 0.35 hours\n",
            "Vessel 2 arrives at 0.98 hours\n",
            "Vessel 2 starts discharging at 0.98 hours\n",
            "Vessel 3 arrives at 1.52 hours\n",
            "Vessel 3 starts discharging at 1.52 hours\n",
            "Vessel 4 arrives at 12.89 hours\n",
            "Vessel 4 starts discharging at 12.89 hours\n",
            "Vessel 5 arrives at 13.04 hours\n",
            "Vessel 5 starts discharging at 13.04 hours\n",
            "Vessel 6 arrives at 13.44 hours\n",
            "Vessel 6 starts discharging at 13.44 hours\n",
            "Vessel 7 arrives at 14.81 hours\n",
            "Vessel 7 starts discharging at 14.81 hours\n",
            "Vessel 1 finished discharging at 15.35 hours\n",
            "Vessel 2 finished discharging at 15.98 hours\n",
            "Vessel 3 finished discharging at 16.52 hours\n",
            "Vessel 8 arrives at 18.65 hours\n",
            "Vessel 8 starts discharging at 18.65 hours\n",
            "Vessel 9 arrives at 19.95 hours\n",
            "Vessel 9 starts discharging at 19.95 hours\n",
            "Vessel 10 arrives at 21.01 hours\n",
            "Vessel 10 starts discharging at 21.01 hours\n",
            "Vessel 11 arrives at 23.48 hours\n",
            "Vessel 11 starts discharging at 23.48 hours\n",
            "Vessel 4 finished discharging at 27.89 hours\n",
            "Vessel 5 finished discharging at 28.04 hours\n",
            "Vessel 12 arrives at 28.33 hours\n",
            "Vessel 12 starts discharging at 28.33 hours\n",
            "Vessel 6 finished discharging at 28.44 hours\n",
            "Vessel 7 finished discharging at 29.81 hours\n",
            "Vessel 13 arrives at 33.48 hours\n",
            "Vessel 13 starts discharging at 33.48 hours\n",
            "Vessel 14 arrives at 33.53 hours\n",
            "Vessel 14 starts discharging at 33.53 hours\n",
            "Vessel 8 finished discharging at 33.65 hours\n",
            "Vessel 9 finished discharging at 34.95 hours\n",
            "Vessel 10 finished discharging at 36.01 hours\n",
            "Vessel 15 arrives at 37.56 hours\n",
            "Vessel 15 starts discharging at 37.56 hours\n",
            "Vessel 11 finished discharging at 38.48 hours\n",
            "Vessel 16 arrives at 41.04 hours\n",
            "Vessel 16 starts discharging at 41.04 hours\n",
            "Vessel 17 arrives at 41.56 hours\n",
            "Vessel 17 starts discharging at 41.56 hours\n",
            "Vessel 18 arrives at 42.23 hours\n",
            "Vessel 18 starts discharging at 42.23 hours\n",
            "Vessel 12 finished discharging at 43.33 hours\n",
            "Vessel 19 arrives at 46.78 hours\n",
            "Vessel 19 starts discharging at 46.78 hours\n",
            "Vessel 13 finished discharging at 48.48 hours\n",
            "Vessel 14 finished discharging at 48.53 hours\n",
            "Vessel 15 finished discharging at 52.56 hours\n",
            "Vessel 16 finished discharging at 56.04 hours\n",
            "Vessel 17 finished discharging at 56.56 hours\n",
            "Vessel 18 finished discharging at 57.23 hours\n",
            "Vessel 19 finished discharging at 61.78 hours\n",
            "Vessel 20 arrives at 64.68 hours\n",
            "Vessel 20 starts discharging at 64.68 hours\n",
            "Vessel 21 arrives at 69.13 hours\n",
            "Vessel 21 starts discharging at 69.13 hours\n",
            "Vessel 22 arrives at 74.14 hours\n",
            "Vessel 22 starts discharging at 74.14 hours\n",
            "Vessel 23 arrives at 74.40 hours\n",
            "Vessel 23 starts discharging at 74.40 hours\n",
            "Vessel 24 arrives at 74.66 hours\n",
            "Vessel 24 starts discharging at 74.66 hours\n",
            "Vessel 25 arrives at 78.32 hours\n",
            "Vessel 25 starts discharging at 78.32 hours\n",
            "Vessel 26 arrives at 78.91 hours\n",
            "Vessel 26 starts discharging at 78.91 hours\n",
            "Vessel 20 finished discharging at 79.68 hours\n",
            "Vessel 21 finished discharging at 84.13 hours\n",
            "Vessel 27 arrives at 87.67 hours\n",
            "Vessel 27 starts discharging at 87.67 hours\n",
            "Vessel 22 finished discharging at 89.14 hours\n",
            "Vessel 23 finished discharging at 89.40 hours\n",
            "Vessel 24 finished discharging at 89.66 hours\n",
            "Vessel 28 arrives at 89.68 hours\n",
            "Vessel 28 starts discharging at 89.68 hours\n",
            "Vessel 29 arrives at 90.84 hours\n",
            "Vessel 29 starts discharging at 90.84 hours\n",
            "Vessel 25 finished discharging at 93.32 hours\n",
            "Vessel 26 finished discharging at 93.91 hours\n",
            "Vessel 30 arrives at 95.67 hours\n",
            "Vessel 30 starts discharging at 95.67 hours\n",
            "Vessel 31 arrives at 97.00 hours\n",
            "Vessel 31 starts discharging at 97.00 hours\n",
            "Vessel 32 arrives at 97.36 hours\n",
            "Vessel 32 starts discharging at 97.36 hours\n"
          ]
        }
      ]
    }
  ]
}